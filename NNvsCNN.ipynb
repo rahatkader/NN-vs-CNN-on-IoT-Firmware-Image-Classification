{
  "nbformat": 4,
  "nbformat_minor": 0,
  "metadata": {
    "colab": {
      "name": "NNvsCNN.ipynb",
      "provenance": [],
      "collapsed_sections": [],
      "mount_file_id": "1SWLXvB1BSIdCy07tynJgd-MpaWA1ub0y",
      "authorship_tag": "ABX9TyOb5il+oNxDQ7kIta3aAydd",
      "include_colab_link": true
    },
    "kernelspec": {
      "name": "python3",
      "display_name": "Python 3"
    },
    "language_info": {
      "name": "python"
    },
    "accelerator": "GPU"
  },
  "cells": [
    {
      "cell_type": "markdown",
      "metadata": {
        "id": "view-in-github",
        "colab_type": "text"
      },
      "source": [
        "<a href=\"https://colab.research.google.com/github/rahatkader/NN-vs-CNN-on-IoT-Firmware-Image-Classification/blob/main/NNvsCNN.ipynb\" target=\"_parent\"><img src=\"https://colab.research.google.com/assets/colab-badge.svg\" alt=\"Open In Colab\"/></a>"
      ]
    },
    {
      "cell_type": "markdown",
      "source": [
        "# **Library file import**"
      ],
      "metadata": {
        "id": "-7Ly-DFRrvAj"
      }
    },
    {
      "cell_type": "code",
      "execution_count": null,
      "metadata": {
        "id": "Gvn5FUfA6lXm"
      },
      "outputs": [],
      "source": [
        "import numpy as np\n",
        "import pandas as pd\n",
        "import matplotlib.pyplot as plt\n",
        "import os\n",
        "\n",
        "import torch\n",
        "from torch import nn\n",
        "from torchvision import datasets, models, transforms\n",
        "import torch.nn.functional as F\n",
        "import torchvision\n",
        "from torchvision import transforms\n",
        "from torch.utils.data import TensorDataset,DataLoader\n",
        "from torch import optim\n",
        "from torch import device as dev\n",
        "from sklearn.metrics import classification_report\n",
        "import torch.utils.data as tdata\n",
        "from sklearn import model_selection"
      ]
    },
    {
      "cell_type": "code",
      "source": [
        "seed = 74\n",
        "np.random.seed(seed)\n",
        "torch.manual_seed(seed)"
      ],
      "metadata": {
        "id": "DAGoPiNX9eMn",
        "colab": {
          "base_uri": "https://localhost:8080/"
        },
        "outputId": "3760b7ab-15d7-416d-b967-f8d71446a96c"
      },
      "execution_count": null,
      "outputs": [
        {
          "output_type": "execute_result",
          "data": {
            "text/plain": [
              "<torch._C.Generator at 0x7ffa40f9dd30>"
            ]
          },
          "metadata": {},
          "execution_count": 2
        }
      ]
    },
    {
      "cell_type": "markdown",
      "source": [
        "# **Dataset Visualization**"
      ],
      "metadata": {
        "id": "ZylQxDbZr3l7"
      }
    },
    {
      "cell_type": "code",
      "source": [
        "import glob\n",
        "import cv2\n",
        "\n",
        "data = []\n",
        "label =[]\n",
        "\n",
        "for file in glob.glob(\"/content/drive/MyDrive/SCL/Assignment 1/imagery/benignware/*.jpg\"):\n",
        "  im = cv2.imread(file)\n",
        "  data.append(im)\n",
        "  label.append('benignware')\n",
        "\n",
        "for file in glob.glob(\"/content/drive/MyDrive/SCL/Assignment 1/imagery/gray/*.jpg\"):\n",
        "  data.append(im)\n",
        "  label.append('gray')\n",
        "\n",
        "for file in glob.glob(\"/content/drive/MyDrive/SCL/Assignment 1/imagery/hackware/*.jpg\"):\n",
        "  data.append(im)\n",
        "  label.append('hackware')\n",
        "\n",
        "for file in glob.glob(\"/content/drive/MyDrive/SCL/Assignment 1/imagery/malware/*.jpg\"):\n",
        "  data.append(im)\n",
        "  label.append('malware')"
      ],
      "metadata": {
        "id": "aLM4Co5diw_y"
      },
      "execution_count": null,
      "outputs": []
    },
    {
      "cell_type": "code",
      "source": [
        "dataset = {'images': data, 'label': label}\n",
        "dataset = pd.DataFrame(dataset)\n",
        "dataset.head(5)"
      ],
      "metadata": {
        "colab": {
          "base_uri": "https://localhost:8080/",
          "height": 206
        },
        "id": "qVjqgyz7kxwR",
        "outputId": "a5914505-b7a6-427d-9186-5133acd65191"
      },
      "execution_count": null,
      "outputs": [
        {
          "output_type": "execute_result",
          "data": {
            "text/html": [
              "\n",
              "  <div id=\"df-5437b211-bd90-438f-8859-f64f1c2a9b97\">\n",
              "    <div class=\"colab-df-container\">\n",
              "      <div>\n",
              "<style scoped>\n",
              "    .dataframe tbody tr th:only-of-type {\n",
              "        vertical-align: middle;\n",
              "    }\n",
              "\n",
              "    .dataframe tbody tr th {\n",
              "        vertical-align: top;\n",
              "    }\n",
              "\n",
              "    .dataframe thead th {\n",
              "        text-align: right;\n",
              "    }\n",
              "</style>\n",
              "<table border=\"1\" class=\"dataframe\">\n",
              "  <thead>\n",
              "    <tr style=\"text-align: right;\">\n",
              "      <th></th>\n",
              "      <th>images</th>\n",
              "      <th>label</th>\n",
              "    </tr>\n",
              "  </thead>\n",
              "  <tbody>\n",
              "    <tr>\n",
              "      <th>0</th>\n",
              "      <td>[[[83, 83, 83], [19, 19, 19], [33, 33, 33], [3...</td>\n",
              "      <td>benignware</td>\n",
              "    </tr>\n",
              "    <tr>\n",
              "      <th>1</th>\n",
              "      <td>[[[83, 83, 83], [19, 19, 19], [33, 33, 33], [3...</td>\n",
              "      <td>benignware</td>\n",
              "    </tr>\n",
              "    <tr>\n",
              "      <th>2</th>\n",
              "      <td>[[[83, 83, 83], [19, 19, 19], [33, 33, 33], [3...</td>\n",
              "      <td>benignware</td>\n",
              "    </tr>\n",
              "    <tr>\n",
              "      <th>3</th>\n",
              "      <td>[[[80, 80, 80], [22, 22, 22], [33, 33, 33], [3...</td>\n",
              "      <td>benignware</td>\n",
              "    </tr>\n",
              "    <tr>\n",
              "      <th>4</th>\n",
              "      <td>[[[83, 83, 83], [19, 19, 19], [33, 33, 33], [3...</td>\n",
              "      <td>benignware</td>\n",
              "    </tr>\n",
              "  </tbody>\n",
              "</table>\n",
              "</div>\n",
              "      <button class=\"colab-df-convert\" onclick=\"convertToInteractive('df-5437b211-bd90-438f-8859-f64f1c2a9b97')\"\n",
              "              title=\"Convert this dataframe to an interactive table.\"\n",
              "              style=\"display:none;\">\n",
              "        \n",
              "  <svg xmlns=\"http://www.w3.org/2000/svg\" height=\"24px\"viewBox=\"0 0 24 24\"\n",
              "       width=\"24px\">\n",
              "    <path d=\"M0 0h24v24H0V0z\" fill=\"none\"/>\n",
              "    <path d=\"M18.56 5.44l.94 2.06.94-2.06 2.06-.94-2.06-.94-.94-2.06-.94 2.06-2.06.94zm-11 1L8.5 8.5l.94-2.06 2.06-.94-2.06-.94L8.5 2.5l-.94 2.06-2.06.94zm10 10l.94 2.06.94-2.06 2.06-.94-2.06-.94-.94-2.06-.94 2.06-2.06.94z\"/><path d=\"M17.41 7.96l-1.37-1.37c-.4-.4-.92-.59-1.43-.59-.52 0-1.04.2-1.43.59L10.3 9.45l-7.72 7.72c-.78.78-.78 2.05 0 2.83L4 21.41c.39.39.9.59 1.41.59.51 0 1.02-.2 1.41-.59l7.78-7.78 2.81-2.81c.8-.78.8-2.07 0-2.86zM5.41 20L4 18.59l7.72-7.72 1.47 1.35L5.41 20z\"/>\n",
              "  </svg>\n",
              "      </button>\n",
              "      \n",
              "  <style>\n",
              "    .colab-df-container {\n",
              "      display:flex;\n",
              "      flex-wrap:wrap;\n",
              "      gap: 12px;\n",
              "    }\n",
              "\n",
              "    .colab-df-convert {\n",
              "      background-color: #E8F0FE;\n",
              "      border: none;\n",
              "      border-radius: 50%;\n",
              "      cursor: pointer;\n",
              "      display: none;\n",
              "      fill: #1967D2;\n",
              "      height: 32px;\n",
              "      padding: 0 0 0 0;\n",
              "      width: 32px;\n",
              "    }\n",
              "\n",
              "    .colab-df-convert:hover {\n",
              "      background-color: #E2EBFA;\n",
              "      box-shadow: 0px 1px 2px rgba(60, 64, 67, 0.3), 0px 1px 3px 1px rgba(60, 64, 67, 0.15);\n",
              "      fill: #174EA6;\n",
              "    }\n",
              "\n",
              "    [theme=dark] .colab-df-convert {\n",
              "      background-color: #3B4455;\n",
              "      fill: #D2E3FC;\n",
              "    }\n",
              "\n",
              "    [theme=dark] .colab-df-convert:hover {\n",
              "      background-color: #434B5C;\n",
              "      box-shadow: 0px 1px 3px 1px rgba(0, 0, 0, 0.15);\n",
              "      filter: drop-shadow(0px 1px 2px rgba(0, 0, 0, 0.3));\n",
              "      fill: #FFFFFF;\n",
              "    }\n",
              "  </style>\n",
              "\n",
              "      <script>\n",
              "        const buttonEl =\n",
              "          document.querySelector('#df-5437b211-bd90-438f-8859-f64f1c2a9b97 button.colab-df-convert');\n",
              "        buttonEl.style.display =\n",
              "          google.colab.kernel.accessAllowed ? 'block' : 'none';\n",
              "\n",
              "        async function convertToInteractive(key) {\n",
              "          const element = document.querySelector('#df-5437b211-bd90-438f-8859-f64f1c2a9b97');\n",
              "          const dataTable =\n",
              "            await google.colab.kernel.invokeFunction('convertToInteractive',\n",
              "                                                     [key], {});\n",
              "          if (!dataTable) return;\n",
              "\n",
              "          const docLinkHtml = 'Like what you see? Visit the ' +\n",
              "            '<a target=\"_blank\" href=https://colab.research.google.com/notebooks/data_table.ipynb>data table notebook</a>'\n",
              "            + ' to learn more about interactive tables.';\n",
              "          element.innerHTML = '';\n",
              "          dataTable['output_type'] = 'display_data';\n",
              "          await google.colab.output.renderOutput(dataTable, element);\n",
              "          const docLink = document.createElement('div');\n",
              "          docLink.innerHTML = docLinkHtml;\n",
              "          element.appendChild(docLink);\n",
              "        }\n",
              "      </script>\n",
              "    </div>\n",
              "  </div>\n",
              "  "
            ],
            "text/plain": [
              "                                              images       label\n",
              "0  [[[83, 83, 83], [19, 19, 19], [33, 33, 33], [3...  benignware\n",
              "1  [[[83, 83, 83], [19, 19, 19], [33, 33, 33], [3...  benignware\n",
              "2  [[[83, 83, 83], [19, 19, 19], [33, 33, 33], [3...  benignware\n",
              "3  [[[80, 80, 80], [22, 22, 22], [33, 33, 33], [3...  benignware\n",
              "4  [[[83, 83, 83], [19, 19, 19], [33, 33, 33], [3...  benignware"
            ]
          },
          "metadata": {},
          "execution_count": 4
        }
      ]
    },
    {
      "cell_type": "code",
      "source": [
        "dataset.info()"
      ],
      "metadata": {
        "colab": {
          "base_uri": "https://localhost:8080/"
        },
        "id": "ViSXngZspZbj",
        "outputId": "afeabe29-430e-42d7-9390-630d82bc4998"
      },
      "execution_count": null,
      "outputs": [
        {
          "output_type": "stream",
          "name": "stdout",
          "text": [
            "<class 'pandas.core.frame.DataFrame'>\n",
            "RangeIndex: 4482 entries, 0 to 4481\n",
            "Data columns (total 2 columns):\n",
            " #   Column  Non-Null Count  Dtype \n",
            "---  ------  --------------  ----- \n",
            " 0   images  4482 non-null   object\n",
            " 1   label   4482 non-null   object\n",
            "dtypes: object(2)\n",
            "memory usage: 70.2+ KB\n"
          ]
        }
      ]
    },
    {
      "cell_type": "code",
      "source": [
        "dataset.describe()"
      ],
      "metadata": {
        "colab": {
          "base_uri": "https://localhost:8080/",
          "height": 175
        },
        "id": "ud3HW13_pcOr",
        "outputId": "c3ea24b5-2294-4bb3-daea-8a88875b3927"
      },
      "execution_count": null,
      "outputs": [
        {
          "output_type": "execute_result",
          "data": {
            "text/html": [
              "\n",
              "  <div id=\"df-ceea72f7-8e6f-46bc-8c95-081522a9d445\">\n",
              "    <div class=\"colab-df-container\">\n",
              "      <div>\n",
              "<style scoped>\n",
              "    .dataframe tbody tr th:only-of-type {\n",
              "        vertical-align: middle;\n",
              "    }\n",
              "\n",
              "    .dataframe tbody tr th {\n",
              "        vertical-align: top;\n",
              "    }\n",
              "\n",
              "    .dataframe thead th {\n",
              "        text-align: right;\n",
              "    }\n",
              "</style>\n",
              "<table border=\"1\" class=\"dataframe\">\n",
              "  <thead>\n",
              "    <tr style=\"text-align: right;\">\n",
              "      <th></th>\n",
              "      <th>images</th>\n",
              "      <th>label</th>\n",
              "    </tr>\n",
              "  </thead>\n",
              "  <tbody>\n",
              "    <tr>\n",
              "      <th>count</th>\n",
              "      <td>4482</td>\n",
              "      <td>4482</td>\n",
              "    </tr>\n",
              "    <tr>\n",
              "      <th>unique</th>\n",
              "      <td>2999</td>\n",
              "      <td>4</td>\n",
              "    </tr>\n",
              "    <tr>\n",
              "      <th>top</th>\n",
              "      <td>[[[83, 83, 83], [19, 19, 19], [33, 33, 33], [3...</td>\n",
              "      <td>benignware</td>\n",
              "    </tr>\n",
              "    <tr>\n",
              "      <th>freq</th>\n",
              "      <td>1484</td>\n",
              "      <td>2999</td>\n",
              "    </tr>\n",
              "  </tbody>\n",
              "</table>\n",
              "</div>\n",
              "      <button class=\"colab-df-convert\" onclick=\"convertToInteractive('df-ceea72f7-8e6f-46bc-8c95-081522a9d445')\"\n",
              "              title=\"Convert this dataframe to an interactive table.\"\n",
              "              style=\"display:none;\">\n",
              "        \n",
              "  <svg xmlns=\"http://www.w3.org/2000/svg\" height=\"24px\"viewBox=\"0 0 24 24\"\n",
              "       width=\"24px\">\n",
              "    <path d=\"M0 0h24v24H0V0z\" fill=\"none\"/>\n",
              "    <path d=\"M18.56 5.44l.94 2.06.94-2.06 2.06-.94-2.06-.94-.94-2.06-.94 2.06-2.06.94zm-11 1L8.5 8.5l.94-2.06 2.06-.94-2.06-.94L8.5 2.5l-.94 2.06-2.06.94zm10 10l.94 2.06.94-2.06 2.06-.94-2.06-.94-.94-2.06-.94 2.06-2.06.94z\"/><path d=\"M17.41 7.96l-1.37-1.37c-.4-.4-.92-.59-1.43-.59-.52 0-1.04.2-1.43.59L10.3 9.45l-7.72 7.72c-.78.78-.78 2.05 0 2.83L4 21.41c.39.39.9.59 1.41.59.51 0 1.02-.2 1.41-.59l7.78-7.78 2.81-2.81c.8-.78.8-2.07 0-2.86zM5.41 20L4 18.59l7.72-7.72 1.47 1.35L5.41 20z\"/>\n",
              "  </svg>\n",
              "      </button>\n",
              "      \n",
              "  <style>\n",
              "    .colab-df-container {\n",
              "      display:flex;\n",
              "      flex-wrap:wrap;\n",
              "      gap: 12px;\n",
              "    }\n",
              "\n",
              "    .colab-df-convert {\n",
              "      background-color: #E8F0FE;\n",
              "      border: none;\n",
              "      border-radius: 50%;\n",
              "      cursor: pointer;\n",
              "      display: none;\n",
              "      fill: #1967D2;\n",
              "      height: 32px;\n",
              "      padding: 0 0 0 0;\n",
              "      width: 32px;\n",
              "    }\n",
              "\n",
              "    .colab-df-convert:hover {\n",
              "      background-color: #E2EBFA;\n",
              "      box-shadow: 0px 1px 2px rgba(60, 64, 67, 0.3), 0px 1px 3px 1px rgba(60, 64, 67, 0.15);\n",
              "      fill: #174EA6;\n",
              "    }\n",
              "\n",
              "    [theme=dark] .colab-df-convert {\n",
              "      background-color: #3B4455;\n",
              "      fill: #D2E3FC;\n",
              "    }\n",
              "\n",
              "    [theme=dark] .colab-df-convert:hover {\n",
              "      background-color: #434B5C;\n",
              "      box-shadow: 0px 1px 3px 1px rgba(0, 0, 0, 0.15);\n",
              "      filter: drop-shadow(0px 1px 2px rgba(0, 0, 0, 0.3));\n",
              "      fill: #FFFFFF;\n",
              "    }\n",
              "  </style>\n",
              "\n",
              "      <script>\n",
              "        const buttonEl =\n",
              "          document.querySelector('#df-ceea72f7-8e6f-46bc-8c95-081522a9d445 button.colab-df-convert');\n",
              "        buttonEl.style.display =\n",
              "          google.colab.kernel.accessAllowed ? 'block' : 'none';\n",
              "\n",
              "        async function convertToInteractive(key) {\n",
              "          const element = document.querySelector('#df-ceea72f7-8e6f-46bc-8c95-081522a9d445');\n",
              "          const dataTable =\n",
              "            await google.colab.kernel.invokeFunction('convertToInteractive',\n",
              "                                                     [key], {});\n",
              "          if (!dataTable) return;\n",
              "\n",
              "          const docLinkHtml = 'Like what you see? Visit the ' +\n",
              "            '<a target=\"_blank\" href=https://colab.research.google.com/notebooks/data_table.ipynb>data table notebook</a>'\n",
              "            + ' to learn more about interactive tables.';\n",
              "          element.innerHTML = '';\n",
              "          dataTable['output_type'] = 'display_data';\n",
              "          await google.colab.output.renderOutput(dataTable, element);\n",
              "          const docLink = document.createElement('div');\n",
              "          docLink.innerHTML = docLinkHtml;\n",
              "          element.appendChild(docLink);\n",
              "        }\n",
              "      </script>\n",
              "    </div>\n",
              "  </div>\n",
              "  "
            ],
            "text/plain": [
              "                                                   images       label\n",
              "count                                                4482        4482\n",
              "unique                                               2999           4\n",
              "top     [[[83, 83, 83], [19, 19, 19], [33, 33, 33], [3...  benignware\n",
              "freq                                                 1484        2999"
            ]
          },
          "metadata": {},
          "execution_count": 6
        }
      ]
    },
    {
      "cell_type": "markdown",
      "source": [
        "\n",
        "\n",
        "---\n",
        "\n",
        "\n",
        "**Records for each class**"
      ],
      "metadata": {
        "id": "_p3gwH-VjuoY"
      }
    },
    {
      "cell_type": "code",
      "source": [
        "import seaborn as sns\n",
        "\n",
        "def plot_stats(df, column, ax, color, angle):\n",
        "    \"\"\" PLOT STATS OF DIFFERENT COLUMNS \"\"\"\n",
        "    count_classes = df[column].value_counts()\n",
        "    ax = sns.barplot(x=count_classes.index, y=count_classes, ax=ax, palette=color)\n",
        "    ax.set_title(column.upper(), fontsize=18)\n",
        "    for tick in ax.get_xticklabels():\n",
        "        tick.set_rotation(angle)"
      ],
      "metadata": {
        "id": "FdHghqdFjU1Z"
      },
      "execution_count": null,
      "outputs": []
    },
    {
      "cell_type": "code",
      "source": [
        "fig, axes = plt.subplots(nrows=1, ncols=1, figsize=(15,5))\n",
        "fig.autofmt_xdate()\n",
        "plot_stats(dataset, \"label\", axes, \"Reds\", 0)\n",
        "plt.show()"
      ],
      "metadata": {
        "colab": {
          "base_uri": "https://localhost:8080/",
          "height": 313
        },
        "id": "ZXtTtak3jUKi",
        "outputId": "0ef2719c-736d-492c-d482-b5419735983b"
      },
      "execution_count": null,
      "outputs": [
        {
          "output_type": "display_data",
          "data": {
            "image/png": "[encoded data removed]",
            "text/plain": [
              "<Figure size 1080x360 with 1 Axes>"
            ]
          },
          "metadata": {
            "needs_background": "light"
          }
        }
      ]
    },
    {
      "cell_type": "markdown",
      "source": [
        "\n",
        "\n",
        "---\n",
        "\n",
        "\n",
        "**Showing Images For Different Classes**"
      ],
      "metadata": {
        "id": "X8p3iVKdljj6"
      }
    },
    {
      "cell_type": "code",
      "source": [
        "#benignware\n",
        "plt.title(\"benignware\")\n",
        "plt.imshow(data[0])"
      ],
      "metadata": {
        "id": "D-m0B_5lqJia",
        "colab": {
          "base_uri": "https://localhost:8080/",
          "height": 298
        },
        "outputId": "4a2a7c2b-bd4b-4b69-a7a1-8f8dfce63603"
      },
      "execution_count": null,
      "outputs": [
        {
          "output_type": "execute_result",
          "data": {
            "text/plain": [
              "<matplotlib.image.AxesImage at 0x7ffa2350a290>"
            ]
          },
          "metadata": {},
          "execution_count": 15
        },
        {
          "output_type": "display_data",
          "data": {
            "image/png": "[encoded data removed]",
            "text/plain": [
              "<Figure size 432x288 with 1 Axes>"
            ]
          },
          "metadata": {
            "needs_background": "light"
          }
        }
      ]
    },
    {
      "cell_type": "code",
      "source": [
        "#gray\n",
        "plt.title(\"gray\")\n",
        "plt.imshow(data[3000])"
      ],
      "metadata": {
        "id": "9c4u0j2bqKsa",
        "colab": {
          "base_uri": "https://localhost:8080/",
          "height": 298
        },
        "outputId": "7dfa2e88-7d04-475a-f40f-522b53b517e7"
      },
      "execution_count": null,
      "outputs": [
        {
          "output_type": "execute_result",
          "data": {
            "text/plain": [
              "<matplotlib.image.AxesImage at 0x7ffa2343e610>"
            ]
          },
          "metadata": {},
          "execution_count": 16
        },
        {
          "output_type": "display_data",
          "data": {
            "image/png": "[encoded data removed]",
            "text/plain": [
              "<Figure size 432x288 with 1 Axes>"
            ]
          },
          "metadata": {
            "needs_background": "light"
          }
        }
      ]
    },
    {
      "cell_type": "code",
      "source": [
        "#hackware\n",
        "plt.title(\"hackware\")\n",
        "plt.imshow(data[3700])"
      ],
      "metadata": {
        "id": "UgFZ579gqKW7",
        "colab": {
          "base_uri": "https://localhost:8080/",
          "height": 298
        },
        "outputId": "58190b68-259c-48f8-e1c0-c4b21c8e0802"
      },
      "execution_count": null,
      "outputs": [
        {
          "output_type": "execute_result",
          "data": {
            "text/plain": [
              "<matplotlib.image.AxesImage at 0x7ffa23395f10>"
            ]
          },
          "metadata": {},
          "execution_count": 18
        },
        {
          "output_type": "display_data",
          "data": {
            "image/png": "[encoded data removed]",
            "text/plain": [
              "<Figure size 432x288 with 1 Axes>"
            ]
          },
          "metadata": {
            "needs_background": "light"
          }
        }
      ]
    },
    {
      "cell_type": "code",
      "source": [
        "#malware\n",
        "plt.title(\"malware\")\n",
        "plt.imshow(data[4200])"
      ],
      "metadata": {
        "id": "FwrWQmwPqKMC",
        "colab": {
          "base_uri": "https://localhost:8080/",
          "height": 298
        },
        "outputId": "be2ccf89-db44-4e92-b31e-9d9c4b60ec4a"
      },
      "execution_count": null,
      "outputs": [
        {
          "output_type": "execute_result",
          "data": {
            "text/plain": [
              "<matplotlib.image.AxesImage at 0x7ffa233a6a50>"
            ]
          },
          "metadata": {},
          "execution_count": 17
        },
        {
          "output_type": "display_data",
          "data": {
            "image/png": "[encoded data removed]",
            "text/plain": [
              "<Figure size 432x288 with 1 Axes>"
            ]
          },
          "metadata": {
            "needs_background": "light"
          }
        }
      ]
    },
    {
      "cell_type": "markdown",
      "source": [
        "# **Dataset Load & Pre-process**"
      ],
      "metadata": {
        "id": "GnnUTziiixxg"
      }
    },
    {
      "cell_type": "code",
      "source": [
        "image_transforms = transforms.Compose([\n",
        "    transforms.Resize((32,32)),\n",
        "    transforms.ToTensor()\n",
        "])\n",
        "\n",
        "#transforms.functional.rgb_to_grayscale(img: torch.Tensor, num_output_channels: int = 1)\n",
        "\n",
        "\n",
        "image_datasets = torchvision.datasets.ImageFolder(\n",
        "                              \"/content/drive/MyDrive/SCL/Assignment 1/imagery\", \n",
        "                              transform = image_transforms)\n",
        "\n",
        "devset_indices = np.arange(len(image_datasets))\n",
        "devset_labels = image_datasets.targets\n",
        "\n",
        "train_indices, test_indices, train_labels,  test_labels = model_selection.train_test_split(\n",
        "                                                  devset_indices, devset_labels, \n",
        "                                                  test_size=0.8, stratify=devset_labels, \n",
        "                                                  shuffle=True)\n",
        "\n",
        "test_image_datasets = tdata.Subset(image_datasets, test_indices)\n",
        "train_image_datasets = tdata.Subset(image_datasets, test_indices)\n",
        "\n",
        "test_loader = DataLoader(test_image_datasets, batch_size = 20)\n",
        "train_loader = DataLoader(train_image_datasets, batch_size = 20)"
      ],
      "metadata": {
        "id": "sN59QRQ49eJt"
      },
      "execution_count": null,
      "outputs": []
    },
    {
      "cell_type": "markdown",
      "source": [
        "# **Neural Network**"
      ],
      "metadata": {
        "id": "V68Zj20uiejJ"
      }
    },
    {
      "cell_type": "code",
      "source": [
        "class NeuralNetwork(nn.Module):\n",
        "    def __init__(self):\n",
        "        super().__init__()\n",
        "        self.fc1 = nn.Linear(32*32*3, 100)\n",
        "        self.fc2 = nn.Linear(100, 100)\n",
        "        self.fc3 = nn.Linear(100, 100)\n",
        "        self.fc4 = nn.Linear(100, 100)\n",
        "        self.fc5 = nn.Linear(100, 100)\n",
        "        self.fc6 = nn.Linear(100, 100)\n",
        "        self.fc7 = nn.Linear(100, 4)\n",
        "\n",
        "    def forward(self, x):\n",
        "        x = F.relu(self.fc1(x))\n",
        "        x = F.relu(self.fc2(x))\n",
        "        x = F.relu(self.fc4(x))\n",
        "        x = F.relu(self.fc5(x))\n",
        "        x = F.relu(self.fc6(x))\n",
        "        x = self.fc7(x)\n",
        "        return F.log_softmax(x, dim=1)\n",
        "\n",
        "model = NeuralNetwork()"
      ],
      "metadata": {
        "id": "oytlzAS59eGt"
      },
      "execution_count": null,
      "outputs": []
    },
    {
      "cell_type": "code",
      "source": [
        "optimizer = optim.Adam(model.parameters(), lr=0.001)\n",
        "EPOCHS = 20"
      ],
      "metadata": {
        "id": "-qamvvL49eDt"
      },
      "execution_count": null,
      "outputs": []
    },
    {
      "cell_type": "code",
      "source": [
        "iteration_loss =[]\n",
        "\n",
        "for epoch in range(EPOCHS):\n",
        "    for data in train_loader:\n",
        "        X, y = data\n",
        "        model.zero_grad()\n",
        "        output = model(X.view(-1, 32*32*3))\n",
        "        loss = F.nll_loss(output, y)\n",
        "        loss.backward()\n",
        "        optimizer.step()\n",
        "        \n",
        "    iteration_loss.append(loss.item())\n",
        "    print('epoch: {}. Loss: {}'.format(epoch, loss.item()))"
      ],
      "metadata": {
        "id": "YmCY0q6S9eAm",
        "colab": {
          "base_uri": "https://localhost:8080/"
        },
        "outputId": "2cbeee64-2fdd-4baf-8fac-84bda6e911fe"
      },
      "execution_count": null,
      "outputs": [
        {
          "output_type": "stream",
          "name": "stdout",
          "text": [
            "epoch: 0. Loss: 0.10049548745155334\n",
            "epoch: 1. Loss: 0.0017835100879892707\n",
            "epoch: 2. Loss: 0.0009925273479893804\n",
            "epoch: 3. Loss: 0.0005245251231826842\n",
            "epoch: 4. Loss: 0.0004884973168373108\n",
            "epoch: 5. Loss: 1.2040004548907746e-05\n",
            "epoch: 6. Loss: 5.364415187614213e-07\n",
            "epoch: 7. Loss: 5.9604641222676946e-08\n",
            "epoch: 8. Loss: 0.0021806980948895216\n",
            "epoch: 9. Loss: 7.316818664548919e-05\n",
            "epoch: 10. Loss: 2.1139238015166484e-05\n",
            "epoch: 11. Loss: 0.008981786668300629\n",
            "epoch: 12. Loss: 2.731806853262242e-05\n",
            "epoch: 13. Loss: 9.688304271548986e-05\n",
            "epoch: 14. Loss: 3.298112687843968e-06\n",
            "epoch: 15. Loss: 1.8278724382980727e-06\n",
            "epoch: 16. Loss: 1.3907748552810517e-07\n",
            "epoch: 17. Loss: 3.973642748178463e-08\n",
            "epoch: 18. Loss: 0.0\n",
            "epoch: 19. Loss: 0.0\n"
          ]
        }
      ]
    },
    {
      "cell_type": "code",
      "source": [
        "plt.plot(iteration_loss)\n",
        "plt.ylabel('Loss')\n",
        "plt.xlabel('For NN, loss in every epoch')\n",
        "plt.show()"
      ],
      "metadata": {
        "colab": {
          "base_uri": "https://localhost:8080/",
          "height": 279
        },
        "id": "iB6XK0NULPQR",
        "outputId": "1c699012-b03d-4836-e2c3-535d2bb01b04"
      },
      "execution_count": null,
      "outputs": [
        {
          "output_type": "display_data",
          "data": {
            "image/png": "[encoded data removed]",
            "text/plain": [
              "<Figure size 432x288 with 1 Axes>"
            ]
          },
          "metadata": {
            "needs_background": "light"
          }
        }
      ]
    },
    {
      "cell_type": "code",
      "source": [
        "# Test Accuracy\n",
        "correct = 0\n",
        "total = 0\n",
        "with torch.no_grad():\n",
        "    for data in test_loader:\n",
        "        data_input, target = data\n",
        "        output = model(data_input.view(-1, 32*32*3))\n",
        "        for idx, i in enumerate(output):\n",
        "            if torch.argmax(i) == target[idx]:\n",
        "                correct += 1\n",
        "            total += 1\n",
        "\n",
        "print('Accuracy: %d %%' % (100 * correct / total))"
      ],
      "metadata": {
        "id": "A3EE5kyW9d8d",
        "colab": {
          "base_uri": "https://localhost:8080/"
        },
        "outputId": "952cf89a-f14e-492a-949d-c268fb45ef3e"
      },
      "execution_count": null,
      "outputs": [
        {
          "output_type": "stream",
          "name": "stdout",
          "text": [
            "Accuracy: 100 %\n"
          ]
        }
      ]
    },
    {
      "cell_type": "code",
      "source": [
        "# train Accuracy\n",
        "correct = 0\n",
        "total = 0\n",
        "with torch.no_grad():\n",
        "    for data in train_loader:\n",
        "        data_input, target = data\n",
        "        output = model(data_input.view(-1, 32*32*3))\n",
        "        for idx, i in enumerate(output):\n",
        "            if torch.argmax(i) == target[idx]:\n",
        "                correct += 1\n",
        "            total += 1\n",
        "\n",
        "print('Accuracy: %d %%' % (100 * correct / total))"
      ],
      "metadata": {
        "colab": {
          "base_uri": "https://localhost:8080/"
        },
        "id": "LgQmIRgAbcmP",
        "outputId": "79cada87-283c-4e04-828c-90725b7df19c"
      },
      "execution_count": null,
      "outputs": [
        {
          "output_type": "stream",
          "name": "stdout",
          "text": [
            "Accuracy: 100 %\n"
          ]
        }
      ]
    },
    {
      "cell_type": "markdown",
      "source": [
        "# **Convolutional Neural Networks**"
      ],
      "metadata": {
        "id": "PADakoOZN5p6"
      }
    },
    {
      "cell_type": "code",
      "source": [
        "class CNeuralNetwork(nn.Module):\n",
        "    def __init__(self):\n",
        "        super(CNeuralNetwork, self).__init__()\n",
        "        self.cnn_layer_1 = nn.Conv2d(in_channels=3, out_channels=256,kernel_size=3, stride=1, padding=1)\n",
        "\n",
        "        self.cnn_layer_2 = nn.Conv2d(in_channels=256, out_channels=128,kernel_size=3, stride=1, padding=1)\n",
        "        self.cnn_layer_3 = nn.Conv2d(in_channels=128, out_channels=64,kernel_size=3, stride=1, padding=1)\n",
        "\n",
        "        self.cnn_layer_4 = nn.Conv2d(in_channels=64, out_channels=32,kernel_size=3, stride=1, padding=1)\n",
        "        \n",
        "        self.flatten = nn.Flatten()\n",
        "        self.maxpool = nn.MaxPool2d(2)\n",
        "        \n",
        "        self.linear_layer_1 = nn.Linear(128, 512)\n",
        "        self.linear_layer_2 = nn.Linear(512, 128) \n",
        "        self.linear_layer_3 = nn.Linear(128, 64) \n",
        "        self.linear_layer_4 = nn.Linear(64, 32)\n",
        "        self.linear_layer_5 = nn.Linear(32, 4)\n",
        "        \n",
        "        self.relu = nn.ReLU()\n",
        "        self.sigmoid = nn.Sigmoid()\n",
        "        self.dropout = nn.Dropout(.2)\n",
        "        \n",
        "    def forward(self, x):\n",
        "\n",
        "        # Input layer\n",
        "        x = self.cnn_layer_1(x)\n",
        "        x = self.dropout(x)\n",
        "        x = self.relu(x)\n",
        "        x = self.maxpool(x)\n",
        "        #print(x.shape)\n",
        "\n",
        "        # Hidden layer 1\n",
        "        x = self.cnn_layer_2(x)\n",
        "        x = self.dropout(x)\n",
        "        x = self.relu(x)\n",
        "        x = self.maxpool(x)\n",
        "        #print(x.shape)\n",
        "\n",
        "        # Hidden layer 2\n",
        "        x = self.cnn_layer_3(x)\n",
        "        x = self.dropout(x)\n",
        "        x = self.relu(x)\n",
        "        x = self.maxpool(x)\n",
        "        #print(x.shape)\n",
        "\n",
        "        # Hidden layer 3\n",
        "        x = self.cnn_layer_4(x)\n",
        "        x = self.dropout(x)\n",
        "        x = self.relu(x)\n",
        "        x = self.maxpool(x)\n",
        "        #print(x.shape)\n",
        "\n",
        "        x = self.flatten(x)\n",
        "        #print(x.shape)\n",
        "\n",
        "        x = self.linear_layer_1(x)\n",
        "        #x = self.dropout(x)\n",
        "        x = self.relu(x)\n",
        "        #print(x.shape)\n",
        "        \n",
        "        x = self.linear_layer_2(x)\n",
        "        #x = self.dropout(x)\n",
        "        x = self.relu(x)\n",
        "        #print(x.shape)\n",
        "\n",
        "        x = self.linear_layer_3(x)\n",
        "        #x = self.dropout(x)\n",
        "        x = self.relu(x)\n",
        "        #print(x.shape)\n",
        "\n",
        "        x = self.linear_layer_4(x)\n",
        "        #x = self.dropout(x)\n",
        "        x = self.relu(x)\n",
        "        #print(x.shape)\n",
        "        \n",
        "        x = self.linear_layer_5(x)\n",
        "        return F.log_softmax(x, dim=1)\n",
        "\n",
        "model2 = CNeuralNetwork()"
      ],
      "metadata": {
        "id": "GndOgBXIN4tS"
      },
      "execution_count": null,
      "outputs": []
    },
    {
      "cell_type": "code",
      "source": [
        "optimizer2 = optim.Adam(model2.parameters(), lr=0.001)\n",
        "EPOCHS2 = 20"
      ],
      "metadata": {
        "id": "bSVs-FGpcwVw"
      },
      "execution_count": null,
      "outputs": []
    },
    {
      "cell_type": "code",
      "source": [
        "iteration_loss2 =[]\n",
        "\n",
        "for epoch in range(EPOCHS2):\n",
        "    for data in train_loader:\n",
        "        X, y = data\n",
        "        model2.zero_grad()\n",
        "        output = model2(X)\n",
        "        loss = F.nll_loss(output, y)\n",
        "        loss.backward()\n",
        "        optimizer2.step()\n",
        "        \n",
        "    iteration_loss2.append(loss.item())\n",
        "    print('epoch: {}. Loss: {}'.format(epoch, loss.item()))"
      ],
      "metadata": {
        "colab": {
          "base_uri": "https://localhost:8080/"
        },
        "id": "49XB2jsdN4qC",
        "outputId": "988ac9e9-659d-4b1e-a821-34ce97a51b77"
      },
      "execution_count": null,
      "outputs": [
        {
          "output_type": "stream",
          "name": "stdout",
          "text": [
            "epoch: 0. Loss: 0.9184880256652832\n",
            "epoch: 1. Loss: 0.8937839865684509\n",
            "epoch: 2. Loss: 0.91597580909729\n",
            "epoch: 3. Loss: 0.8953423500061035\n",
            "epoch: 4. Loss: 0.8616025447845459\n",
            "epoch: 5. Loss: 0.7751073241233826\n",
            "epoch: 6. Loss: 0.7651047110557556\n",
            "epoch: 7. Loss: 0.7498164176940918\n",
            "epoch: 8. Loss: 0.7108756899833679\n",
            "epoch: 9. Loss: 0.6817869544029236\n",
            "epoch: 10. Loss: 0.6718637943267822\n",
            "epoch: 11. Loss: 0.44497230648994446\n",
            "epoch: 12. Loss: 0.44465371966362\n",
            "epoch: 13. Loss: 0.2989614009857178\n",
            "epoch: 14. Loss: 0.1945093721151352\n",
            "epoch: 15. Loss: 0.01646517775952816\n",
            "epoch: 16. Loss: 0.4358700215816498\n",
            "epoch: 17. Loss: 0.08689696341753006\n",
            "epoch: 18. Loss: 0.0080869160592556\n",
            "epoch: 19. Loss: 0.001103211659938097\n"
          ]
        }
      ]
    },
    {
      "cell_type": "code",
      "source": [
        "plt.plot(iteration_loss2)\n",
        "plt.ylabel('Loss')\n",
        "plt.xlabel('For CNN, loss in every epoch')\n",
        "plt.show()"
      ],
      "metadata": {
        "colab": {
          "base_uri": "https://localhost:8080/",
          "height": 279
        },
        "id": "74kUpmScN4iq",
        "outputId": "db9bdf56-15be-4353-b726-33d515eeea72"
      },
      "execution_count": null,
      "outputs": [
        {
          "output_type": "display_data",
          "data": {
            "image/png": "[encoded data removed]",
            "text/plain": [
              "<Figure size 432x288 with 1 Axes>"
            ]
          },
          "metadata": {
            "needs_background": "light"
          }
        }
      ]
    },
    {
      "cell_type": "code",
      "source": [
        "# Test Accuracy\n",
        "correct = 0\n",
        "total = 0\n",
        "with torch.no_grad():\n",
        "    for data in test_loader:\n",
        "        data_input, target = data\n",
        "        output = model2(data_input)\n",
        "        for idx, i in enumerate(output):\n",
        "            if torch.argmax(i) == target[idx]:\n",
        "                correct += 1\n",
        "            total += 1\n",
        "\n",
        "print('Accuracy: %d %%' % (100 * correct / total))"
      ],
      "metadata": {
        "colab": {
          "base_uri": "https://localhost:8080/"
        },
        "id": "-DXPD3hoN4fa",
        "outputId": "445e93f6-a70e-4ad7-8156-91046f4b8823"
      },
      "execution_count": null,
      "outputs": [
        {
          "output_type": "stream",
          "name": "stdout",
          "text": [
            "Accuracy: 98 %\n"
          ]
        }
      ]
    },
    {
      "cell_type": "code",
      "source": [
        "# train Accuracy\n",
        "correct = 0\n",
        "total = 0\n",
        "with torch.no_grad():\n",
        "    for data in train_loader:\n",
        "        data_input, target = data\n",
        "        output = model2(data_input)\n",
        "        for idx, i in enumerate(output):\n",
        "            if torch.argmax(i) == target[idx]:\n",
        "                correct += 1\n",
        "            total += 1\n",
        "\n",
        "print('Accuracy: %d %%' % (100 * correct / total))"
      ],
      "metadata": {
        "colab": {
          "base_uri": "https://localhost:8080/"
        },
        "id": "lEA-rgqah5LR",
        "outputId": "88916e24-6b47-435b-9f0e-0bb226a86077"
      },
      "execution_count": null,
      "outputs": [
        {
          "output_type": "stream",
          "name": "stdout",
          "text": [
            "Accuracy: 98 %\n"
          ]
        }
      ]
    }
  ]
}